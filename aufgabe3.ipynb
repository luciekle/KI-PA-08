{
 "cells": [
  {
   "cell_type": "markdown",
   "id": "f0400fe7-1e50-481d-bb7e-62f2c126d4c2",
   "metadata": {},
   "source": [
    "# Aufgabe 3 - Tiefe Einblicke ins Institut: Reloaded"
   ]
  },
  {
   "cell_type": "markdown",
   "id": "e59687f3-c461-4f6e-a898-d023cdc8c67c",
   "metadata": {},
   "source": [
    "Den Code immer nachvollziehbar kommentieren! Bitte beachtet, dass das Notebook von Anfang bis Ende ohne Fehler durchlaufen muss und dass die requirements.txt Datei aktualisiert wird. "
   ]
  },
  {
   "cell_type": "code",
   "execution_count": 13,
   "id": "48e97f2a-c3df-4121-8b13-eb35a1e77435",
   "metadata": {},
   "outputs": [],
   "source": [
    "import os\n",
    "\n",
    "import torch\n",
    "import torch.nn as nn\n",
    "import torch.nn.functional as F  \n",
    "import torchvision.transforms as T\n",
    "import torch.optim as optim\n",
    "from torchvision.io import read_image\n",
    "from torch.utils.data import DataLoader\n",
    "from torch.utils.data import Dataset\n",
    "\n",
    "import numpy as np\n",
    "import matplotlib.pyplot as plt \n",
    "\n",
    "#from torchmetrics import Accuracy\n",
    "from sklearn.metrics import accuracy_score, confusion_matrix, precision_score, recall_score, ConfusionMatrixDisplay, f1_score"
   ]
  },
  {
   "cell_type": "markdown",
   "id": "ec5f0020-55eb-4023-a883-90ac6206cfb3",
   "metadata": {},
   "source": [
    "## Teilaufgabe a): Trainings-, Test-und Validierungsdatenset"
   ]
  },
  {
   "cell_type": "code",
   "execution_count": 14,
   "id": "2c91f492-e05c-4a7f-9a1c-8674e2ed71d4",
   "metadata": {},
   "outputs": [
    {
     "name": "stdout",
     "output_type": "stream",
     "text": [
      "['./Bilder/Flur/Flur5.jpg', './Bilder/Flur/Flur9.jpg', './Bilder/Flur/Flur7.jpg', './Bilder/Flur/Flur17.jpg', './Bilder/Labor/Labor5.jpg', './Bilder/Labor/Labor9.jpg', './Bilder/Labor/Labor7.jpg', './Bilder/Labor/Labor17.jpg', './Bilder/Professorenbuero/Professorenbuero5.jpg', './Bilder/Professorenbuero/Professorenbuero9.jpg', './Bilder/Professorenbuero/Professorenbuero7.jpg', './Bilder/Professorenbuero/Professorenbuero17.jpg', './Bilder/Teekueche/Teekueche5.jpg', './Bilder/Teekueche/Teekueche9.jpg', './Bilder/Teekueche/Teekueche7.jpg', './Bilder/Teekueche/Teekueche17.jpg']\n"
     ]
    }
   ],
   "source": [
    "#Abgeänderter Code von 2a Trainingsdaten werden nochmal 80/20 gesplittet. Auch hier sind die Räume gleichmäßig repräsentiert\n",
    "\n",
    "import numpy as np\n",
    "from sklearn.model_selection import train_test_split\n",
    "import random\n",
    "\n",
    "training_path_list = []  # [\"./pfad/zu/bildA.png\",\"./pfad/zu/bildB.png\",...]\n",
    "test_path_list = []  # [\"./pfad/zu/bildC.png\",\"./pfad/zu/bildD.png\",...]\n",
    "\n",
    "# add all paths to one array\n",
    "flur_list = []\n",
    "labor_list = []\n",
    "buero_list = []\n",
    "kueche_list = []\n",
    "\n",
    "for i in range(1,26):\n",
    "    flur_list.append(\"./Bilder/Flur/Flur%d.jpg\"% i)\n",
    "    labor_list.append(\"./Bilder/Labor/Labor%d.jpg\"% i)\n",
    "    buero_list.append(\"./Bilder/Professorenbuero/Professorenbuero%d.jpg\"% i)\n",
    "    kueche_list.append(\"./Bilder/Teekueche/Teekueche%d.jpg\"% i)\n",
    "\n",
    "# split the test and training set    \n",
    "training_flur2, test_flur  = train_test_split(\n",
    "    flur_list, test_size=0.2, random_state=1\n",
    ")\n",
    "training_labor2, test_labor  = train_test_split(\n",
    "    labor_list, test_size=0.2, random_state=1\n",
    ")\n",
    "training_buero2, test_buero  = train_test_split(\n",
    "    buero_list, test_size=0.2, random_state=1\n",
    ")\n",
    "training_kueche2, test_kueche  = train_test_split(\n",
    "    kueche_list, test_size=0.2, random_state=1\n",
    ")\n",
    "\n",
    "#training_path_list = training_flur + training_labor + training_buero + training_kueche\n",
    "test_path_list = test_flur + test_labor + test_buero + test_kueche # 5 + 5 + 5 + 5\n",
    "\n",
    "training_flur, val_flur  = train_test_split(\n",
    "    training_flur2, test_size=0.2, random_state=1\n",
    ")\n",
    "training_labor, val_labor  = train_test_split(\n",
    "    training_labor2, test_size=0.2, random_state=1\n",
    ")\n",
    "training_buero, val_buero  = train_test_split(\n",
    "    training_buero2, test_size=0.2, random_state=1\n",
    ")\n",
    "training_kueche, val_kueche  = train_test_split(\n",
    "    training_kueche2, test_size=0.2, random_state=1\n",
    ")\n",
    "\n",
    "training_path_list = training_flur + training_labor + training_buero + training_kueche #16 + 16 + 16 + 16\n",
    "validation_path_list = val_flur + val_labor + val_buero + val_kueche # 4 + 4 + 4 + 4\n",
    "\n",
    "#random.shuffle(training_path_list)\n",
    "#random.shuffle(test_path_list)\n",
    "#random.shuffle(validation_path_list)\n",
    "\n",
    "print(validation_path_list)\n",
    "\n",
    "\n",
    "\n",
    " "
   ]
  },
  {
   "cell_type": "markdown",
   "id": "b16c6c68-033e-4d57-ba02-fc86c53f34f1",
   "metadata": {},
   "source": [
    "## Teilaufgabe b): CNN definieren und implementieren"
   ]
  },
  {
   "cell_type": "code",
   "execution_count": 15,
   "id": "3f484794-3ab2-4edf-84e4-8debf29b1d57",
   "metadata": {},
   "outputs": [],
   "source": [
    "class Net(nn.Module):\n",
    "    def __init__(self):\n",
    "        super().__init__()\n",
    "        self.input_shape = 3\n",
    "        self.hidden_units = 10\n",
    "        self.output_shape = 4 # Klassen\n",
    "        self.conv_block_1 = nn.Sequential(\n",
    "            nn.Conv2d(in_channels=3,         #Neue Werte werden mit Bias und Gewichten berechnet. Backpropagation: Gewichte werden angepasst\n",
    "                      out_channels=self.hidden_units,\n",
    "                      kernel_size=3,\n",
    "                      stride=1,\n",
    "                      padding=1),\n",
    "            nn.ReLU(),\n",
    "            nn.Conv2d(in_channels=self.hidden_units,\n",
    "                      out_channels=self.hidden_units,\n",
    "                      kernel_size=3,\n",
    "                      stride=1,\n",
    "                      padding=1),\n",
    "            nn.ReLU(),\n",
    "            nn.MaxPool2d(kernel_size=2)  #MaxPool2d verringert die Auflösung der Matrix und kann so wichtigere Merkmale hervorheben\n",
    "        )\n",
    "        self.conv_block_2 = nn.Sequential(\n",
    "            nn.Conv2d(in_channels=self.hidden_units,\n",
    "                      out_channels=self.hidden_units,\n",
    "                      kernel_size=3,\n",
    "                      stride=1,\n",
    "                      padding=1),\n",
    "        nn.ReLU(),\n",
    "        nn.Conv2d(in_channels=self.hidden_units,\n",
    "                  out_channels=self.hidden_units,\n",
    "                  kernel_size=3,\n",
    "                  stride=1,\n",
    "                  padding=1),\n",
    "        nn.ReLU(),\n",
    "        nn.MaxPool2d(kernel_size=2)\n",
    "        )\n",
    "        self.classifier = nn.Sequential(\n",
    "            nn.Flatten(),\n",
    "            nn.Linear(in_features= self.hidden_units*56*56, #Shape nach conv_block_2\n",
    "                     out_features=self.output_shape)\n",
    "        )\n",
    "\n",
    "    def forward(self, x):\n",
    "        x = self.conv_block_1(x)\n",
    "        #print(x.shape)\n",
    "        x = self.conv_block_2(x)\n",
    "        #print(x.shape)\n",
    "        x = self.classifier(x)\n",
    "        return x\n",
    "    "
   ]
  },
  {
   "cell_type": "markdown",
   "id": "2bb17fba-193f-4873-a631-7a902bb54675",
   "metadata": {
    "tags": []
   },
   "source": [
    "## Teilaufgabe c): Training und Test mit CNN"
   ]
  },
  {
   "cell_type": "markdown",
   "id": "1369c7d9-bb8e-4856-943e-317067000bb7",
   "metadata": {},
   "source": [
    "Datenset-Klasse um mit Pytorch Bilder zu laden. \n",
    "\n",
    "Input sind: \n",
    "- Liste mit Pfaden zu Bildern\n",
    "- Liste mit dazugehörigen Labels (numerisch darstellen!) \n",
    "- Transformation der Bilder\n"
   ]
  },
  {
   "cell_type": "code",
   "execution_count": 16,
   "id": "c3b2967c-06da-4bda-a6a6-a0994d92bdc6",
   "metadata": {},
   "outputs": [],
   "source": [
    "class ROBDataset(Dataset):\n",
    "    def __init__(self, img_path_list, img_labels, transform=None):\n",
    "        #print(\"Länge list/labels: \",len(img_path_list), len(img_labels))\n",
    "        # Pfade zu den Bildern als list\n",
    "        self.img_path_list = img_path_list\n",
    "        \n",
    "        # Dazugehörige Labels zu den Bildern als list\n",
    "        self.img_labels = img_labels\n",
    "        \n",
    "        # Transformations der Bilder\n",
    "        self.transform = transform\n",
    "\n",
    "    def __len__(self):\n",
    "        return len(self.img_path_list)\n",
    "\n",
    "    def __getitem__(self, idx):\n",
    "        # Bild laden\n",
    "        img_path = self.img_path_list[idx]\n",
    "        #print(\"Path: \",img_path)\n",
    "        image = read_image(img_path)\n",
    "        \n",
    "        # Label laden\n",
    "        label = self.img_labels[idx]\n",
    "        \n",
    "        # Transformieren\n",
    "        if self.transform:\n",
    "            image = self.transform(image)\n",
    "            \n",
    "        return image.float(), int(label)"
   ]
  },
  {
   "cell_type": "markdown",
   "id": "fdb8928b-daf3-459e-a540-aa98944b18e3",
   "metadata": {},
   "source": [
    "Trainingsiteration über alle Bilder.\n",
    "\n",
    "Inputs sind:\n",
    "- Pytorch dataloader Object über das iteriert wird\n",
    "- bool do_backprob Parameter um Backpropagation durchzuführen oder nicht"
   ]
  },
  {
   "cell_type": "code",
   "execution_count": 17,
   "id": "aaaff24b-78a7-4701-915d-0e271402f70a",
   "metadata": {},
   "outputs": [],
   "source": [
    "# Iterating over the entire data set once\n",
    "def run_iteration(dataloader, do_backprob=True):\n",
    "    global net, optimizer, criterion\n",
    "    loss_iter = []\n",
    "    acc_iter = []\n",
    "    for batch_x, batch_y in dataloader:\n",
    "        # To device\n",
    "        batch_x = batch_x.to(device)\n",
    "        batch_y = batch_y.to(device)\n",
    "        \n",
    "        # zero the parameter gradients\n",
    "        optimizer.zero_grad()\n",
    "        \n",
    "        # forward + backward + optimize\n",
    "        y_predict = net(batch_x)\n",
    "        loss = criterion(y_predict, batch_y)\n",
    "        if do_backprob:\n",
    "            loss.backward()\n",
    "            optimizer.step()\n",
    "\n",
    "        # statistics\n",
    "        loss_iter.append(loss.detach().cpu().numpy())\n",
    "        \n",
    "        _, predicted = torch.max(torch.softmax(y_predict, dim=1),1)\n",
    "\n",
    "        #accuracy_score = Accuracy(task=\"multiclass\", num_classes=4)\n",
    "        acc_iter.append(accuracy_score(batch_y.detach().cpu().numpy(), \n",
    "                                       predicted.detach().cpu().numpy()))\n",
    "\n",
    "        print(\"F1_Score: \", f1_score(batch_y.detach().cpu().numpy(), predicted.detach().cpu().numpy(),average=None))\n",
    "        print(\"Recall: \", recall_score(batch_y.detach().cpu().numpy(), predicted.detach().cpu().numpy(),average=None))\n",
    "        print(\"Precision: \", precision_score(batch_y.detach().cpu().numpy(), predicted.detach().cpu().numpy(),average=None))\n",
    "        cm = confusion_matrix(batch_y.detach().cpu().numpy(), predicted.detach().cpu().numpy())\n",
    "        disp = ConfusionMatrixDisplay(confusion_matrix=cm)\n",
    "        \n",
    "    \n",
    "    return np.mean(loss_iter), np.mean(acc_iter), disp"
   ]
  },
  {
   "cell_type": "markdown",
   "id": "0e616ae6-75e5-42a1-be39-d914424fe62d",
   "metadata": {},
   "source": [
    "Komplette Durchführung eines Trainings\n",
    "Die Variablen y_train, y_val und y_test müssen noch gesetzt werden. Diese Listen beinhalten die entsprechenden Labels als numerische Darstellung."
   ]
  },
  {
   "cell_type": "code",
   "execution_count": 18,
   "id": "9da5f5cc-b45e-48d9-861b-a1a6cc3c21b6",
   "metadata": {},
   "outputs": [],
   "source": [
    "y_train = torch.tensor([0,0,0,0,0,0,0,0,0,0,0,0,0,0,0,0,1,1,1,1,1,1,1,1,1,1,1,1,1,1,1,1,2,2,2,2,2,2,2,2,2,2,2,2,2,2,2,2,3,3,3,3,3,3,3,3,3,3,3,3,3,3,3,3])#16+16+16+16\n",
    "y_test = torch.tensor([0,0,0,0,0,1,1,1,1,1,2,2,2,2,2,3,3,3,3,3])#5+5+5+5+5\n",
    "y_val = torch.tensor([0,0,0,0,1,1,1,1,2,2,2,2,3,3,3,3]) #4+4+4+4\n",
    "#print(y_train.shape)\n",
    "#print(y_test.shape)\n",
    "#print(y_val.shape)"
   ]
  },
  {
   "cell_type": "code",
   "execution_count": 19,
   "id": "094c918f-85f4-48b5-a089-4215da53b075",
   "metadata": {},
   "outputs": [
    {
     "name": "stdout",
     "output_type": "stream",
     "text": [
      "Running on  cpu\n",
      "\n",
      "Started Training\n",
      "Epoch 1 from 10\n",
      "F1_Score:  [0.31578947 0.         0.         0.        ]\n",
      "Recall:  [1. 0. 0. 0.]\n",
      "Precision:  [0.1875 0.     0.     0.    ]\n",
      "F1_Score:  [0.         0.22222222 0.         0.        ]\n",
      "Recall:  [0. 1. 0. 0.]\n",
      "Precision:  [0.    0.125 0.    0.   ]\n"
     ]
    },
    {
     "name": "stderr",
     "output_type": "stream",
     "text": [
      "C:\\Users\\Chris\\miniconda3\\envs\\ersteUmgebung\\lib\\site-packages\\sklearn\\metrics\\_classification.py:1509: UndefinedMetricWarning: Precision is ill-defined and being set to 0.0 in labels with no predicted samples. Use `zero_division` parameter to control this behavior.\n",
      "  _warn_prf(average, modifier, f\"{metric.capitalize()} is\", len(result))\n",
      "C:\\Users\\Chris\\miniconda3\\envs\\ersteUmgebung\\lib\\site-packages\\sklearn\\metrics\\_classification.py:1509: UndefinedMetricWarning: Precision is ill-defined and being set to 0.0 in labels with no predicted samples. Use `zero_division` parameter to control this behavior.\n",
      "  _warn_prf(average, modifier, f\"{metric.capitalize()} is\", len(result))\n"
     ]
    },
    {
     "name": "stdout",
     "output_type": "stream",
     "text": [
      "F1_Score:  [0.  0.4 0.  0. ]\n",
      "Recall:  [0. 1. 0. 0.]\n",
      "Precision:  [0.   0.25 0.   0.  ]\n",
      "F1_Score:  [0.         0.         0.         0.31578947]\n",
      "Recall:  [0. 0. 0. 1.]\n",
      "Precision:  [0.     0.     0.     0.1875]\n",
      "\tTrain Loss\t 1.5523328\n",
      "\tTrain Acc.\t 0.1875\n"
     ]
    },
    {
     "name": "stderr",
     "output_type": "stream",
     "text": [
      "C:\\Users\\Chris\\miniconda3\\envs\\ersteUmgebung\\lib\\site-packages\\sklearn\\metrics\\_classification.py:1509: UndefinedMetricWarning: Precision is ill-defined and being set to 0.0 in labels with no predicted samples. Use `zero_division` parameter to control this behavior.\n",
      "  _warn_prf(average, modifier, f\"{metric.capitalize()} is\", len(result))\n",
      "C:\\Users\\Chris\\miniconda3\\envs\\ersteUmgebung\\lib\\site-packages\\sklearn\\metrics\\_classification.py:1509: UndefinedMetricWarning: Precision is ill-defined and being set to 0.0 in labels with no predicted samples. Use `zero_division` parameter to control this behavior.\n",
      "  _warn_prf(average, modifier, f\"{metric.capitalize()} is\", len(result))\n"
     ]
    },
    {
     "name": "stdout",
     "output_type": "stream",
     "text": [
      "F1_Score:  [0.4 0.  0.  0. ]\n",
      "Recall:  [1. 0. 0. 0.]\n",
      "Precision:  [0.25 0.   0.   0.  ]\n",
      "\tVal Loss\t 1.3998315\n",
      "\tVal Acc.\t 0.25\n",
      "Epoch 2 from 10\n",
      "F1_Score:  [0.22222222 0.         0.         0.        ]\n",
      "Recall:  [1. 0. 0. 0.]\n",
      "Precision:  [0.125 0.    0.    0.   ]\n"
     ]
    },
    {
     "name": "stderr",
     "output_type": "stream",
     "text": [
      "C:\\Users\\Chris\\miniconda3\\envs\\ersteUmgebung\\lib\\site-packages\\sklearn\\metrics\\_classification.py:1509: UndefinedMetricWarning: Precision is ill-defined and being set to 0.0 in labels with no predicted samples. Use `zero_division` parameter to control this behavior.\n",
      "  _warn_prf(average, modifier, f\"{metric.capitalize()} is\", len(result))\n",
      "C:\\Users\\Chris\\miniconda3\\envs\\ersteUmgebung\\lib\\site-packages\\sklearn\\metrics\\_classification.py:1509: UndefinedMetricWarning: Precision is ill-defined and being set to 0.0 in labels with no predicted samples. Use `zero_division` parameter to control this behavior.\n",
      "  _warn_prf(average, modifier, f\"{metric.capitalize()} is\", len(result))\n"
     ]
    },
    {
     "name": "stdout",
     "output_type": "stream",
     "text": [
      "F1_Score:  [0.85714286 0.         0.66666667 0.        ]\n",
      "Recall:  [1. 0. 1. 0.]\n",
      "Precision:  [0.75 0.   0.5  0.  ]\n",
      "F1_Score:  [0.72727273 0.         0.57142857 0.        ]\n",
      "Recall:  [1.  0.  0.8 0. ]\n",
      "Precision:  [0.57142857 0.         0.44444444 0.        ]\n"
     ]
    },
    {
     "name": "stderr",
     "output_type": "stream",
     "text": [
      "C:\\Users\\Chris\\miniconda3\\envs\\ersteUmgebung\\lib\\site-packages\\sklearn\\metrics\\_classification.py:1509: UndefinedMetricWarning: Precision is ill-defined and being set to 0.0 in labels with no predicted samples. Use `zero_division` parameter to control this behavior.\n",
      "  _warn_prf(average, modifier, f\"{metric.capitalize()} is\", len(result))\n",
      "C:\\Users\\Chris\\miniconda3\\envs\\ersteUmgebung\\lib\\site-packages\\sklearn\\metrics\\_classification.py:1509: UndefinedMetricWarning: Precision is ill-defined and being set to 0.0 in labels with no predicted samples. Use `zero_division` parameter to control this behavior.\n",
      "  _warn_prf(average, modifier, f\"{metric.capitalize()} is\", len(result))\n"
     ]
    },
    {
     "name": "stdout",
     "output_type": "stream",
     "text": [
      "F1_Score:  [1.  0.  0.5 0. ]\n",
      "Recall:  [1. 0. 1. 0.]\n",
      "Precision:  [1.         0.         0.33333333 0.        ]\n",
      "\tTrain Loss\t 1.3671707\n",
      "\tTrain Acc.\t 0.4375\n",
      "F1_Score:  [0.57142857 0.4        0.5        0.        ]\n",
      "Recall:  [0.5  0.25 1.   0.  ]\n",
      "Precision:  [0.66666667 1.         0.33333333 0.        ]\n",
      "\tVal Loss\t 1.2878988\n",
      "\tVal Acc.\t 0.4375\n",
      "Epoch 3 from 10\n"
     ]
    },
    {
     "name": "stderr",
     "output_type": "stream",
     "text": [
      "C:\\Users\\Chris\\miniconda3\\envs\\ersteUmgebung\\lib\\site-packages\\sklearn\\metrics\\_classification.py:1509: UndefinedMetricWarning: Precision is ill-defined and being set to 0.0 in labels with no predicted samples. Use `zero_division` parameter to control this behavior.\n",
      "  _warn_prf(average, modifier, f\"{metric.capitalize()} is\", len(result))\n",
      "C:\\Users\\Chris\\miniconda3\\envs\\ersteUmgebung\\lib\\site-packages\\sklearn\\metrics\\_classification.py:1509: UndefinedMetricWarning: Precision is ill-defined and being set to 0.0 in labels with no predicted samples. Use `zero_division` parameter to control this behavior.\n",
      "  _warn_prf(average, modifier, f\"{metric.capitalize()} is\", len(result))\n"
     ]
    },
    {
     "name": "stdout",
     "output_type": "stream",
     "text": [
      "F1_Score:  [0.72727273 0.         0.61538462 0.4       ]\n",
      "Recall:  [0.8  0.   1.   0.25]\n",
      "Precision:  [0.66666667 0.         0.44444444 1.        ]\n",
      "F1_Score:  [1.         0.66666667 0.4        0.57142857]\n",
      "Recall:  [1.  0.5 1.  0.4]\n",
      "Precision:  [1.   1.   0.25 1.  ]\n"
     ]
    },
    {
     "name": "stderr",
     "output_type": "stream",
     "text": [
      "C:\\Users\\Chris\\miniconda3\\envs\\ersteUmgebung\\lib\\site-packages\\sklearn\\metrics\\_classification.py:1509: UndefinedMetricWarning: Precision is ill-defined and being set to 0.0 in labels with no predicted samples. Use `zero_division` parameter to control this behavior.\n",
      "  _warn_prf(average, modifier, f\"{metric.capitalize()} is\", len(result))\n"
     ]
    },
    {
     "name": "stdout",
     "output_type": "stream",
     "text": [
      "F1_Score:  [0.83333333 1.         0.5        0.8       ]\n",
      "Recall:  [0.83333333 1.         0.5        0.8       ]\n",
      "Precision:  [0.83333333 1.         0.5        0.8       ]\n",
      "F1_Score:  [0.5        0.47058824 0.         0.        ]\n",
      "Recall:  [0.5 1.  0.  0. ]\n",
      "Precision:  [0.5        0.30769231 0.         0.        ]\n",
      "\tTrain Loss\t 1.1579506\n",
      "\tTrain Acc.\t 0.578125\n"
     ]
    },
    {
     "name": "stderr",
     "output_type": "stream",
     "text": [
      "C:\\Users\\Chris\\miniconda3\\envs\\ersteUmgebung\\lib\\site-packages\\sklearn\\metrics\\_classification.py:1509: UndefinedMetricWarning: Precision is ill-defined and being set to 0.0 in labels with no predicted samples. Use `zero_division` parameter to control this behavior.\n",
      "  _warn_prf(average, modifier, f\"{metric.capitalize()} is\", len(result))\n",
      "C:\\Users\\Chris\\miniconda3\\envs\\ersteUmgebung\\lib\\site-packages\\sklearn\\metrics\\_classification.py:1509: UndefinedMetricWarning: Precision is ill-defined and being set to 0.0 in labels with no predicted samples. Use `zero_division` parameter to control this behavior.\n",
      "  _warn_prf(average, modifier, f\"{metric.capitalize()} is\", len(result))\n"
     ]
    },
    {
     "name": "stdout",
     "output_type": "stream",
     "text": [
      "F1_Score:  [0.4        0.5        0.         0.28571429]\n",
      "Recall:  [0.25 1.   0.   0.25]\n",
      "Precision:  [1.         0.33333333 0.         0.33333333]\n",
      "\tVal Loss\t 1.2501827\n",
      "\tVal Acc.\t 0.375\n",
      "Epoch 4 from 10\n",
      "F1_Score:  [0.8        0.5        0.28571429 0.75      ]\n",
      "Recall:  [0.66666667 1.         0.16666667 0.75      ]\n",
      "Precision:  [1.         0.33333333 1.         0.75      ]\n",
      "F1_Score:  [1.         0.66666667 0.         0.66666667]\n",
      "Recall:  [1.  1.  0.  0.5]\n",
      "Precision:  [1.  0.5 0.  1. ]\n",
      "F1_Score:  [0.61538462 0.66666667 0.75       0.4       ]\n",
      "Recall:  [0.57142857 1.         0.6        0.5       ]\n",
      "Precision:  [0.66666667 0.5        1.         0.33333333]\n"
     ]
    },
    {
     "name": "stderr",
     "output_type": "stream",
     "text": [
      "C:\\Users\\Chris\\miniconda3\\envs\\ersteUmgebung\\lib\\site-packages\\sklearn\\metrics\\_classification.py:1509: UndefinedMetricWarning: Precision is ill-defined and being set to 0.0 in labels with no predicted samples. Use `zero_division` parameter to control this behavior.\n",
      "  _warn_prf(average, modifier, f\"{metric.capitalize()} is\", len(result))\n"
     ]
    },
    {
     "name": "stdout",
     "output_type": "stream",
     "text": [
      "F1_Score:  [0.66666667 0.54545455 0.28571429 0.5       ]\n",
      "Recall:  [0.5        0.6        1.         0.33333333]\n",
      "Precision:  [1.         0.5        0.16666667 1.        ]\n",
      "\tTrain Loss\t 0.9791001\n",
      "\tTrain Acc.\t 0.578125\n",
      "F1_Score:  [0.57142857 0.66666667 0.36363636 0.        ]\n",
      "Recall:  [0.5  0.75 0.5  0.  ]\n",
      "Precision:  [0.66666667 0.6        0.28571429 0.        ]\n",
      "\tVal Loss\t 1.124133\n",
      "\tVal Acc.\t 0.4375\n",
      "Epoch 5 from 10\n",
      "F1_Score:  [0.85714286 0.4        0.85714286 0.66666667]\n",
      "Recall:  [1.         0.33333333 0.85714286 0.66666667]\n",
      "Precision:  [0.75       0.5        0.85714286 0.66666667]\n",
      "F1_Score:  [0.90909091 0.66666667 0.57142857 0.5       ]\n",
      "Recall:  [1.  0.5 1.  0.4]\n",
      "Precision:  [0.83333333 1.         0.4        0.66666667]\n",
      "F1_Score:  [0.85714286 1.         0.90909091 0.75      ]\n",
      "Recall:  [1.  1.  1.  0.6]\n",
      "Precision:  [0.75       1.         0.83333333 1.        ]\n",
      "F1_Score:  [0.90909091 0.8        0.5        0.85714286]\n",
      "Recall:  [1.         0.66666667 0.5        1.        ]\n",
      "Precision:  [0.83333333 1.         0.5        0.75      ]\n",
      "\tTrain Loss\t 0.6778336\n",
      "\tTrain Acc.\t 0.78125\n",
      "F1_Score:  [0.66666667 0.66666667 0.         0.6       ]\n",
      "Recall:  [0.75 0.75 0.   0.75]\n",
      "Precision:  [0.6 0.6 0.  0.5]\n",
      "\tVal Loss\t 1.0093695\n",
      "\tVal Acc.\t 0.5625\n",
      "Epoch 6 from 10\n",
      "F1_Score:  [0.90909091 0.8        0.85714286 0.88888889]\n",
      "Recall:  [1.         0.66666667 0.75       1.        ]\n",
      "Precision:  [0.83333333 1.         1.         0.8       ]\n"
     ]
    },
    {
     "name": "stderr",
     "output_type": "stream",
     "text": [
      "C:\\Users\\Chris\\miniconda3\\envs\\ersteUmgebung\\lib\\site-packages\\sklearn\\metrics\\_classification.py:1509: UndefinedMetricWarning: Precision is ill-defined and being set to 0.0 in labels with no predicted samples. Use `zero_division` parameter to control this behavior.\n",
      "  _warn_prf(average, modifier, f\"{metric.capitalize()} is\", len(result))\n"
     ]
    },
    {
     "name": "stdout",
     "output_type": "stream",
     "text": [
      "F1_Score:  [0.8        0.90909091 0.         0.85714286]\n",
      "Recall:  [1. 1. 0. 1.]\n",
      "Precision:  [0.66666667 0.83333333 0.         0.75      ]\n",
      "F1_Score:  [0.75       0.75       0.85714286 0.66666667]\n",
      "Recall:  [1.   1.   0.75 0.5 ]\n",
      "Precision:  [0.6 0.6 1.  1. ]\n"
     ]
    },
    {
     "name": "stderr",
     "output_type": "stream",
     "text": [
      "C:\\Users\\Chris\\miniconda3\\envs\\ersteUmgebung\\lib\\site-packages\\sklearn\\metrics\\_classification.py:1509: UndefinedMetricWarning: Precision is ill-defined and being set to 0.0 in labels with no predicted samples. Use `zero_division` parameter to control this behavior.\n",
      "  _warn_prf(average, modifier, f\"{metric.capitalize()} is\", len(result))\n"
     ]
    },
    {
     "name": "stdout",
     "output_type": "stream",
     "text": [
      "F1_Score:  [1. 1. 1. 1.]\n",
      "Recall:  [1. 1. 1. 1.]\n",
      "Precision:  [1. 1. 1. 1.]\n",
      "\tTrain Loss\t 0.5133827\n",
      "\tTrain Acc.\t 0.84375\n",
      "F1_Score:  [0.57142857 0.72727273 0.5        0.33333333]\n",
      "Recall:  [0.5  1.   0.5  0.25]\n",
      "Precision:  [0.66666667 0.57142857 0.5        0.5       ]\n",
      "\tVal Loss\t 1.0914555\n",
      "\tVal Acc.\t 0.5625\n",
      "Epoch 7 from 10\n",
      "F1_Score:  [0.88888889 1.         1.         0.85714286]\n",
      "Recall:  [1.   1.   1.   0.75]\n",
      "Precision:  [0.8 1.  1.  1. ]\n",
      "F1_Score:  [0.85714286 1.         0.88888889 1.        ]\n",
      "Recall:  [1.  1.  0.8 1. ]\n",
      "Precision:  [0.75 1.   1.   1.  ]\n",
      "F1_Score:  [1. 1. 1. 1.]\n",
      "Recall:  [1. 1. 1. 1.]\n",
      "Precision:  [1. 1. 1. 1.]\n",
      "F1_Score:  [1.         0.83333333 0.88888889 0.88888889]\n",
      "Recall:  [1.         0.71428571 1.         1.        ]\n",
      "Precision:  [1.  1.  0.8 0.8]\n",
      "\tTrain Loss\t 0.27573007\n",
      "\tTrain Acc.\t 0.9375\n",
      "F1_Score:  [0.57142857 0.66666667 0.6        0.33333333]\n",
      "Recall:  [0.5  0.75 0.75 0.25]\n",
      "Precision:  [0.66666667 0.6        0.5        0.5       ]\n",
      "\tVal Loss\t 1.2875743\n",
      "\tVal Acc.\t 0.5625\n",
      "Epoch 8 from 10\n",
      "F1_Score:  [1. 1. 1. 1.]\n",
      "Recall:  [1. 1. 1. 1.]\n",
      "Precision:  [1. 1. 1. 1.]\n",
      "F1_Score:  [1. 1. 1. 1.]\n",
      "Recall:  [1. 1. 1. 1.]\n",
      "Precision:  [1. 1. 1. 1.]\n",
      "F1_Score:  [1. 1. 1. 1.]\n",
      "Recall:  [1. 1. 1. 1.]\n",
      "Precision:  [1. 1. 1. 1.]\n",
      "F1_Score:  [1.         0.66666667 0.72727273 0.85714286]\n",
      "Recall:  [1.         1.         0.57142857 1.        ]\n",
      "Precision:  [1.   0.5  1.   0.75]\n",
      "\tTrain Loss\t 0.1632295\n",
      "\tTrain Acc.\t 0.953125\n",
      "F1_Score:  [0.57142857 0.72727273 0.5        0.33333333]\n",
      "Recall:  [0.5  1.   0.5  0.25]\n",
      "Precision:  [0.66666667 0.57142857 0.5        0.5       ]\n",
      "\tVal Loss\t 1.4486566\n",
      "\tVal Acc.\t 0.5625\n",
      "Epoch 9 from 10\n",
      "F1_Score:  [1.         0.83333333 0.75       1.        ]\n",
      "Recall:  [1.  1.  0.6 1. ]\n",
      "Precision:  [1.         0.71428571 1.         1.        ]\n",
      "F1_Score:  [1. 1. 1.]\n",
      "Recall:  [1. 1. 1.]\n",
      "Precision:  [1. 1. 1.]\n",
      "F1_Score:  [1. 1. 1. 1.]\n",
      "Recall:  [1. 1. 1. 1.]\n",
      "Precision:  [1. 1. 1. 1.]\n",
      "F1_Score:  [1.         0.75       0.71428571 0.66666667]\n",
      "Recall:  [1.  0.6 1.  0.5]\n",
      "Precision:  [1.         1.         0.55555556 1.        ]\n",
      "\tTrain Loss\t 0.13064052\n",
      "\tTrain Acc.\t 0.90625\n",
      "F1_Score:  [0.57142857 0.66666667 0.57142857 0.        ]\n",
      "Recall:  [0.5 0.5 1.  0. ]\n",
      "Precision:  [0.66666667 1.         0.4        0.        ]\n",
      "\tVal Loss\t 1.8167809\n",
      "\tVal Acc.\t 0.5\n",
      "Epoch 10 from 10\n",
      "F1_Score:  [1.         0.85714286 0.88888889 1.        ]\n",
      "Recall:  [1.   0.75 1.   1.  ]\n",
      "Precision:  [1.  1.  0.8 1. ]\n",
      "F1_Score:  [1. 1. 1. 1.]\n",
      "Recall:  [1. 1. 1. 1.]\n",
      "Precision:  [1. 1. 1. 1.]\n",
      "F1_Score:  [1. 1. 1. 1.]\n",
      "Recall:  [1. 1. 1. 1.]\n",
      "Precision:  [1. 1. 1. 1.]\n",
      "F1_Score:  [1. 1. 1. 1.]\n",
      "Recall:  [1. 1. 1. 1.]\n",
      "Precision:  [1. 1. 1. 1.]\n",
      "\tTrain Loss\t 0.034801368\n",
      "\tTrain Acc.\t 0.984375\n",
      "F1_Score:  [0.57142857 0.88888889 0.33333333 0.6       ]\n",
      "Recall:  [0.5  1.   0.25 0.75]\n",
      "Precision:  [0.66666667 0.8        0.5        0.5       ]\n",
      "\tVal Loss\t 1.9761453\n",
      "\tVal Acc.\t 0.625\n"
     ]
    },
    {
     "data": {
      "image/png": "[encoded data removed]",
      "text/plain": [
       "<Figure size 1000x300 with 2 Axes>"
      ]
     },
     "metadata": {},
     "output_type": "display_data"
    },
    {
     "data": {
      "text/plain": [
       "<sklearn.metrics._plot.confusion_matrix.ConfusionMatrixDisplay at 0x245cfebc490>"
      ]
     },
     "execution_count": 19,
     "metadata": {},
     "output_type": "execute_result"
    },
    {
     "data": {
      "image/png": "[encoded data removed]",
      "text/plain": [
       "<Figure size 640x480 with 2 Axes>"
      ]
     },
     "metadata": {},
     "output_type": "display_data"
    },
    {
     "data": {
      "image/png": "[encoded data removed]",
      "text/plain": [
       "<Figure size 640x480 with 2 Axes>"
      ]
     },
     "metadata": {},
     "output_type": "display_data"
    }
   ],
   "source": [
    "# Training settings - bei Bedarf anpassbar\n",
    "max_epoch = 10\n",
    "batch_size = 16\n",
    "lr = 0.001\n",
    "\n",
    "# Transformations for dataloader\n",
    "t_train = T.Compose([T.ToPILImage(),\n",
    "                   T.ToTensor(),\n",
    "                   T.Normalize(mean=(0.5, 0.5, 0.5), std=(0.5, 0.5, 0.5))])\n",
    "t_val = T.Compose([T.ToPILImage(),\n",
    "                   T.ToTensor(),\n",
    "                   T.Normalize(mean=(0.5, 0.5, 0.5), std=(0.5, 0.5, 0.5))])\n",
    "t_test = T.Compose([T.ToPILImage(),\n",
    "                   T.ToTensor(),\n",
    "                   T.Normalize(mean=(0.5, 0.5, 0.5), std=(0.5, 0.5, 0.5))])\n",
    "\n",
    "# Where to do calculations\n",
    "device = torch.device(\"cuda:0\" if torch.cuda.is_available() else \"cpu\")\n",
    "print(\"Running on \",device)\n",
    "\n",
    "# Training Data, NOTE: y_train labels need to be set\n",
    "dataset_train = ROBDataset(training_path_list, y_train, transform=t_train)\n",
    "dataloader_train = DataLoader(dataset_train, batch_size=batch_size, shuffle=True)\n",
    "\n",
    "# Validation Data, NOTE: y_val labels need to be set\n",
    "dataset_val = ROBDataset(validation_path_list, y_val, transform=t_train)\n",
    "dataloader_val = DataLoader(dataset_val, batch_size=batch_size, shuffle=False)\n",
    "\n",
    "# Test Data, NOTE: y_test labels need. to be set\n",
    "dataset_test = ROBDataset(test_path_list, y_test,transform=t_test)\n",
    "dataloader_test = DataLoader(dataset_test, batch_size=batch_size, shuffle=False)\n",
    "\n",
    "# Network, optimizer and loss initialisation\n",
    "net = Net()\n",
    "net.to(device)\n",
    "optimizer = optim.Adam(net.parameters(), lr=lr)\n",
    "criterion = nn.CrossEntropyLoss()\n",
    "\n",
    "# Los geht's mit Training\n",
    "print(\"\\nStarted Training\")\n",
    "# Training loss and accuracy per epoch\n",
    "train_loss_epoch = []\n",
    "train_acc_epoch = []\n",
    "# Validation loss and accuracy per epoch\n",
    "val_loss_epoch = []\n",
    "val_acc_epoch = []\n",
    "\n",
    "for epoch in range(0,max_epoch):  # loop over the dataset multiple times\n",
    "    print(f\"Epoch {epoch+1} from {max_epoch}\")\n",
    "    \n",
    "    ### TRAINING ###\n",
    "    net.train()\n",
    "    train_loss_iter, train_acc_iter, dispT = run_iteration(dataloader_train)\n",
    "\n",
    "    # Logging loss and accuarcy of training iteration\n",
    "    train_loss_epoch.append(train_loss_iter)\n",
    "    train_acc_epoch.append(train_acc_iter)\n",
    "    print(\"\\tTrain Loss\\t\",train_loss_iter)\n",
    "    print(\"\\tTrain Acc.\\t\",train_acc_iter)\n",
    "    \n",
    "    ### VALIDATION ###\n",
    "    with torch.no_grad():  # No gradient calculation\n",
    "        net.eval()\n",
    "        val_loss_iter, val_acc_iter, dispV = run_iteration(dataloader_val,do_backprob=False)\n",
    "\n",
    "        # Logging loss and accuarcy of validation iteration\n",
    "        val_loss_epoch.append(val_loss_iter)\n",
    "        val_acc_epoch.append(val_acc_iter)\n",
    "        print(\"\\tVal Loss\\t\",val_loss_iter)\n",
    "        print(\"\\tVal Acc.\\t\",val_acc_iter)\n",
    "\n",
    "# Plotting results\n",
    "fig, ax = plt.subplots(nrows=1,ncols=2,figsize=(10,3))\n",
    "ax[0].plot(train_loss_epoch,label=\"Train\")\n",
    "ax[0].plot(val_loss_epoch,label=\"Val\",linestyle=\"-.\")\n",
    "ax[0].set_ylabel('Loss')\n",
    "ax[0].set_xlabel('Epochs')\n",
    "ax[0].legend()\n",
    "\n",
    "ax[1].plot(train_acc_epoch,label=\"Train\")\n",
    "ax[1].plot(val_acc_epoch,label=\"Val\",linestyle=\"-.\")\n",
    "ax[1].set_ylabel('Accuracy')\n",
    "ax[1].set_xlabel('Epochs')\n",
    "ax[1].legend()\n",
    "plt.savefig(\"loss_augmentation.png\",format=\"png\",bbox_inches=\"tight\")\n",
    "plt.show()\n",
    "dispT.plot()\n",
    "dispV.plot()"
   ]
  },
  {
   "cell_type": "code",
   "execution_count": null,
   "id": "823af297-bb62-4e02-a376-99fc47618b08",
   "metadata": {},
   "outputs": [],
   "source": []
  },
  {
   "cell_type": "markdown",
   "id": "51e14a88-cf54-40a0-b118-05e243e0b995",
   "metadata": {
    "tags": []
   },
   "source": [
    "## Teilaufgabe d): Augmentierung"
   ]
  },
  {
   "cell_type": "code",
   "execution_count": 22,
   "id": "65263759-2c02-43f0-b756-c8f8ad77b75e",
   "metadata": {},
   "outputs": [
    {
     "data": {
      "text/plain": [
       "'Es können zusätzlich Ausschnitte aus den Bildern in die Datensätze hinzugefügt werden. Außerdem könnten die Bilder gespiegelt werden.\\nDie Helligkeit kann geändert werden, um verschiedene Tageszeiten oder das Ausschalten des Lichts zu simulieren. Die Bilder können auch bewusst unschärfer\\ngemacht werden. Dies kann wichtige Merkmale aus den Bildern hervorheben. Ähnlich dem MaxPooling'"
      ]
     },
     "execution_count": 22,
     "metadata": {},
     "output_type": "execute_result"
    }
   ],
   "source": [
    "\"\"\"Es können zusätzlich Ausschnitte aus den Bildern in die Datensätze hinzugefügt werden. Außerdem könnten die Bilder gespiegelt werden.\n",
    "Die Helligkeit kann geändert werden, um verschiedene Tageszeiten oder das Ausschalten des Lichts zu simulieren. Die Bilder können auch bewusst unschärfer\n",
    "gemacht werden. Dies kann wichtige Merkmale aus den Bildern hervorheben. Ähnlich dem MaxPooling\"\"\""
   ]
  },
  {
   "cell_type": "markdown",
   "id": "ba0cffb4-b4dd-4df8-b7d5-f2f98c8a698b",
   "metadata": {
    "tags": []
   },
   "source": [
    "## Teilaufgabe e): Early Stopping"
   ]
  },
  {
   "cell_type": "code",
   "execution_count": null,
   "id": "4a72c1da-07de-4252-a4a9-b373918b1cf2",
   "metadata": {
    "tags": []
   },
   "outputs": [],
   "source": []
  }
 ],
 "metadata": {
  "kernelspec": {
   "display_name": "Python 3 (ipykernel)",
   "language": "python",
   "name": "python3"
  },
  "language_info": {
   "codemirror_mode": {
    "name": "ipython",
    "version": 3
   },
   "file_extension": ".py",
   "mimetype": "text/x-python",
   "name": "python",
   "nbconvert_exporter": "python",
   "pygments_lexer": "ipython3",
   "version": "3.9.19"
  }
 },
 "nbformat": 4,
 "nbformat_minor": 5
}
