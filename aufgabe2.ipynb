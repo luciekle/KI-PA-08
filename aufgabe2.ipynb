{
 "cells": [
  {
   "cell_type": "markdown",
   "id": "f0400fe7-1e50-481d-bb7e-62f2c126d4c2",
   "metadata": {},
   "source": [
    "# Aufgabe 2 - Tiefe Einblicke ins Institut"
   ]
  },
  {
   "cell_type": "markdown",
   "id": "e59687f3-c461-4f6e-a898-d023cdc8c67c",
   "metadata": {},
   "source": [
    "Den Code immer nachvollziehbar kommentieren! Bitte beachtet, dass das Notebook von Anfang bis Ende ohne Fehler durchlaufen muss und dass die requirements.txt Datei aktualisiert wird. "
   ]
  },
  {
   "cell_type": "markdown",
   "id": "ec5f0020-55eb-4023-a883-90ac6206cfb3",
   "metadata": {},
   "source": [
    "## Teilaufgabe a): Trainings-und Testdatenset"
   ]
  },
  {
   "cell_type": "code",
   "execution_count": 5,
   "id": "2c91f492-e05c-4a7f-9a1c-8674e2ed71d4",
   "metadata": {},
   "outputs": [],
   "source": [
    "import numpy as np\n",
    "from sklearn.model_selection import train_test_split\n",
    "\n",
    "training_path_list = []  # [\"./pfad/zu/bildA.png\",\"./pfad/zu/bildB.png\",...]\n",
    "test_path_list = []  # [\"./pfad/zu/bildC.png\",\"./pfad/zu/bildD.png\",...]\n",
    "\n",
    "# add all paths to one array\n",
    "path_list = []\n",
    "\n",
    "for i in range(1,26):\n",
    "    path_list.append(\"./Bilder/Flur/Flur%d.jpg\"% i)\n",
    "    path_list.append(\"./Bilder/Labor/Labor%d.jpg\"% i)\n",
    "    path_list.append(\"./Bilder/Professorenbuero/Professorenbuero%d.jpg\"% i)\n",
    "    path_list.append(\"./Bilder/Teekueche/Teekueche%d.jpg\"% i)"
   ]
  },
  {
   "cell_type": "code",
   "execution_count": null,
   "id": "16035e2d-da53-4747-a023-5d10a1015fa7",
   "metadata": {},
   "outputs": [],
   "source": [
    "# split the test and training set    \n",
    "training_path_list, test_path_list  = train_test_split(\n",
    "    path_list, test_size=0.2, random_state=1\n",
    ")"
   ]
  },
  {
   "cell_type": "markdown",
   "id": "b16c6c68-033e-4d57-ba02-fc86c53f34f1",
   "metadata": {},
   "source": [
    "## Teilaufgabe b): Verteilung RGB"
   ]
  },
  {
   "cell_type": "code",
   "execution_count": null,
   "id": "3f484794-3ab2-4edf-84e4-8debf29b1d57",
   "metadata": {},
   "outputs": [],
   "source": []
  },
  {
   "cell_type": "markdown",
   "id": "2bb17fba-193f-4873-a631-7a902bb54675",
   "metadata": {},
   "source": [
    "## Teilaufgabe c): Training und Test mit Random Forest "
   ]
  },
  {
   "cell_type": "code",
   "execution_count": null,
   "id": "9569d171-6ea9-4a8d-8c88-80210669ef7e",
   "metadata": {},
   "outputs": [],
   "source": []
  },
  {
   "cell_type": "markdown",
   "id": "51e14a88-cf54-40a0-b118-05e243e0b995",
   "metadata": {
    "tags": []
   },
   "source": [
    "## Teilaufgabe d): Hyperparameteroptimierung"
   ]
  },
  {
   "cell_type": "code",
   "execution_count": null,
   "id": "65263759-2c02-43f0-b756-c8f8ad77b75e",
   "metadata": {},
   "outputs": [],
   "source": []
  },
  {
   "cell_type": "markdown",
   "id": "ba0cffb4-b4dd-4df8-b7d5-f2f98c8a698b",
   "metadata": {
    "tags": []
   },
   "source": [
    "## Teilaufgabe e): Dimensionalitätsreduktion"
   ]
  },
  {
   "cell_type": "code",
   "execution_count": null,
   "id": "4a72c1da-07de-4252-a4a9-b373918b1cf2",
   "metadata": {},
   "outputs": [],
   "source": []
  }
 ],
 "metadata": {
  "kernelspec": {
   "display_name": "Python 3 (ipykernel)",
   "language": "python",
   "name": "python3"
  },
  "language_info": {
   "codemirror_mode": {
    "name": "ipython",
    "version": 3
   },
   "file_extension": ".py",
   "mimetype": "text/x-python",
   "name": "python",
   "nbconvert_exporter": "python",
   "pygments_lexer": "ipython3",
   "version": "3.9.12"
  }
 },
 "nbformat": 4,
 "nbformat_minor": 5
}
